{
 "cells": [
  {
   "cell_type": "code",
   "execution_count": 1,
   "id": "0fce7038-4848-4194-9be8-1c736c2d11d4",
   "metadata": {},
   "outputs": [],
   "source": [
    "import pandas as pd\n",
    "import numpy as np"
   ]
  },
  {
   "cell_type": "code",
   "execution_count": 3,
   "id": "70483824-dd2e-4775-959e-d6950e4e7f9b",
   "metadata": {},
   "outputs": [],
   "source": [
    "df = pd.read_excel('Examen de Normas.xlsx')"
   ]
  },
  {
   "cell_type": "code",
   "execution_count": 5,
   "id": "1c0df100-5f14-483b-b824-ef63ee8249e7",
   "metadata": {},
   "outputs": [],
   "source": [
    "df.to_csv('examen_normas.csv')"
   ]
  },
  {
   "cell_type": "code",
   "execution_count": 6,
   "id": "56c725dd-67a1-477d-b7cc-2e308842d041",
   "metadata": {},
   "outputs": [],
   "source": [
    "df1 = pd.read_excel('EXAMEN DE MANEJO.xlsx')\n",
    "df1.to_csv('examen_manejo.csv')"
   ]
  },
  {
   "cell_type": "code",
   "execution_count": 7,
   "id": "21996c98-4f72-4865-8a07-4711891e600e",
   "metadata": {},
   "outputs": [],
   "source": [
    "df_em = df1\n",
    "df_en = df"
   ]
  },
  {
   "cell_type": "code",
   "execution_count": null,
   "id": "4903b70f-0347-4237-a956-a396823f41f3",
   "metadata": {},
   "outputs": [],
   "source": [
    "df_em"
   ]
  }
 ],
 "metadata": {
  "kernelspec": {
   "display_name": "Python 3 (ipykernel)",
   "language": "python",
   "name": "python3"
  },
  "language_info": {
   "codemirror_mode": {
    "name": "ipython",
    "version": 3
   },
   "file_extension": ".py",
   "mimetype": "text/x-python",
   "name": "python",
   "nbconvert_exporter": "python",
   "pygments_lexer": "ipython3",
   "version": "3.10.5"
  }
 },
 "nbformat": 4,
 "nbformat_minor": 5
}
